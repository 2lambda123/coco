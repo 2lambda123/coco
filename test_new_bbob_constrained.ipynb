{
 "cells": [
  {
   "cell_type": "code",
   "execution_count": 2,
   "metadata": {},
   "outputs": [],
   "source": [
    "import cocoex\n",
    "import numpy as np\n",
    "import cma"
   ]
  },
  {
   "cell_type": "code",
   "execution_count": 4,
   "metadata": {},
   "outputs": [],
   "source": [
    "cocoex.known_suite_names.append(\"bbob-constrained\")"
   ]
  },
  {
   "cell_type": "code",
   "execution_count": 6,
   "metadata": {},
   "outputs": [],
   "source": [
    "#suite = cocoex.Suite(\"bbob-constrained\", \"\", \"dimensions:2,3,5 instance_indices:1\")\n",
    "suite = cocoex.Suite(\"bbob-constrained\", \"\", \"\")"
   ]
  },
  {
   "cell_type": "code",
   "execution_count": 47,
   "metadata": {},
   "outputs": [
    {
     "name": "stdout",
     "output_type": "stream",
     "text": [
      "bbob-constrained_f050_i04_d03: a 3-dimensional single-objective problem with 3 constraints (problem 1548 of suite \"b'bbob-constrained'\" with name \"bbob-constrained suite problem f50 instance 4 in 3D\")\n"
     ]
    }
   ],
   "source": [
    "#problem = suite.next_problem()\n",
    "problem=suite.get_problem_by_function_dimension_instance(50, 3, 4)\n",
    "print(problem)"
   ]
  },
  {
   "cell_type": "code",
   "execution_count": 48,
   "metadata": {},
   "outputs": [
    {
     "data": {
      "text/plain": [
       "array([-36555.4709516 , -48629.5180831 , -14324.69205331])"
      ]
     },
     "execution_count": 48,
     "metadata": {},
     "output_type": "execute_result"
    }
   ],
   "source": [
    "problem.constraint(problem.initial_solution)"
   ]
  },
  {
   "cell_type": "code",
   "execution_count": 49,
   "metadata": {},
   "outputs": [
    {
     "data": {
      "text/plain": [
       "array([ 0.904 , -1.4944,  1.4664])"
      ]
     },
     "execution_count": 49,
     "metadata": {},
     "output_type": "execute_result"
    }
   ],
   "source": [
    "problem._best_parameter('print')\n",
    "_xopt = np.loadtxt('._bbob_problem_best_parameter.txt')\n",
    "_xopt"
   ]
  },
  {
   "cell_type": "code",
   "execution_count": 50,
   "metadata": {},
   "outputs": [
    {
     "data": {
      "text/plain": [
       "array([     0.        , -11577.06839467,      0.        ])"
      ]
     },
     "execution_count": 50,
     "metadata": {},
     "output_type": "execute_result"
    }
   ],
   "source": [
    "problem.constraint(_xopt)"
   ]
  },
  {
   "cell_type": "code",
   "execution_count": 51,
   "metadata": {},
   "outputs": [
    {
     "data": {
      "text/plain": [
       "1039.8999999999999"
      ]
     },
     "execution_count": 51,
     "metadata": {},
     "output_type": "execute_result"
    }
   ],
   "source": [
    "problem(_xopt)"
   ]
  },
  {
   "cell_type": "markdown",
   "metadata": {},
   "source": [
    "## Optimize"
   ]
  },
  {
   "cell_type": "markdown",
   "metadata": {},
   "source": [
    "## in a small neighbourhood around the optimum"
   ]
  },
  {
   "cell_type": "code",
   "execution_count": 52,
   "metadata": {},
   "outputs": [
    {
     "data": {
      "text/plain": [
       "array([ 2.1152, -0.1048,  3.8176])"
      ]
     },
     "execution_count": 52,
     "metadata": {},
     "output_type": "execute_result"
    }
   ],
   "source": [
    "es.mean"
   ]
  },
  {
   "cell_type": "code",
   "execution_count": 53,
   "metadata": {},
   "outputs": [
    {
     "name": "stdout",
     "output_type": "stream",
     "text": [
      "(3_w,7)-aCMA-ES (mu_w=2.3,w_1=58%) in dimension 3 (seed=916043, Thu Nov 25 16:45:16 2021)\n",
      "Iterat #Fevals   function value  axis ratio  sigma  min&max std  t[m:s]\n",
      "    1      7 1.039892947667564e+03 1.3e+00 1.12e-04  1e-04  1e-04 0:00.0\n",
      "    2     14 1.039897169608854e+03 1.7e+00 1.13e-04  1e-04  1e-04 0:00.0\n",
      "    3     21 1.039897243003969e+03 1.4e+00 1.07e-04  9e-05  1e-04 0:00.0\n",
      "  100    700 1.039900000000001e+03 5.1e+00 5.50e-07  6e-09  2e-08 0:00.2\n",
      "  114    798 1.039900000000000e+03 4.1e+00 2.12e-07  2e-09  3e-09 0:00.2\n",
      "termination on tolfun=1e-11 (Thu Nov 25 16:45:16 2021)\n",
      "final/bestever f-value = 1.039900e+03 1.039893e+03\n",
      "incumbent solution: [0.9039999990462141, -1.4944000005808853, 1.4664000007870885]\n",
      "std deviation: [1.6047620931201242e-09, 1.6403401785853877e-09, 2.762401266328436e-09]\n"
     ]
    }
   ],
   "source": [
    "res, es = cma.fmin_con(problem, _xopt, 1e-4, g=problem.constraint)\n",
    "\n",
    "assert np.allclose(_xopt, es.mean)"
   ]
  },
  {
   "cell_type": "markdown",
   "metadata": {},
   "source": [
    "## global opt. with large popsize"
   ]
  },
  {
   "cell_type": "code",
   "execution_count": 54,
   "metadata": {},
   "outputs": [
    {
     "name": "stdout",
     "output_type": "stream",
     "text": [
      "(50_w,100)-aCMA-ES (mu_w=27.0,w_1=8%) in dimension 3 (seed=969639, Thu Nov 25 16:45:18 2021)\n",
      "Iterat #Fevals   function value  axis ratio  sigma  min&max std  t[m:s]\n",
      "    1    100 1.439600659321915e+03 1.3e+00 9.98e+00  5e+00  6e+00 0:00.0\n",
      "    2    200 1.431523632901248e+03 1.5e+00 1.27e+01  4e+00  6e+00 0:00.0\n",
      "    3    300 1.408672339704766e+03 1.7e+00 1.27e+01  3e+00  3e+00 0:00.0\n",
      "   44   4400 1.089446012414870e+03 2.1e+00 5.31e+00  1e-09  2e-09 0:00.5\n",
      "termination on tolflatfitness=1 (Thu Nov 25 16:45:19 2021)\n",
      "final/bestever f-value = 1.089446e+03 1.042971e+03\n",
      "incumbent solution: [0.5991726986183304, -2.385391896609955, 1.0907410332933112]\n",
      "std deviation: [1.3341055481774753e-09, 1.2261984419125736e-09, 2.3540935128456835e-09]\n"
     ]
    },
    {
     "data": {
      "text/plain": [
       "(array([ 0.89121988, -1.51872357,  1.45281899]),\n",
       " <cma.evolution_strategy.CMAEvolutionStrategy at 0x7fc847e1e880>)"
      ]
     },
     "execution_count": 54,
     "metadata": {},
     "output_type": "execute_result"
    }
   ],
   "source": [
    "opts = cma.CMAOptions()\n",
    "opts.set(\"popsize\", 100)\n",
    "\n",
    "cma.fmin_con(problem, np.ones(problem.dimension), 10, g=problem.constraint, options=opts)"
   ]
  },
  {
   "cell_type": "code",
   "execution_count": null,
   "metadata": {},
   "outputs": [],
   "source": []
  }
 ],
 "metadata": {
  "kernelspec": {
   "display_name": "sci386",
   "language": "python",
   "name": "sci386"
  },
  "language_info": {
   "codemirror_mode": {
    "name": "ipython",
    "version": 3
   },
   "file_extension": ".py",
   "mimetype": "text/x-python",
   "name": "python",
   "nbconvert_exporter": "python",
   "pygments_lexer": "ipython3",
   "version": "3.8.6"
  }
 },
 "nbformat": 4,
 "nbformat_minor": 4
}
