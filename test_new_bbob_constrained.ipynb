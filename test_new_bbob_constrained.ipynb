{
 "cells": [
  {
   "cell_type": "code",
   "execution_count": 1,
   "metadata": {},
   "outputs": [],
   "source": [
    "import cocoex\n",
    "import cocoexcons\n",
    "import numpy as np\n",
    "import cma"
   ]
  },
  {
   "cell_type": "code",
   "execution_count": 2,
   "metadata": {},
   "outputs": [],
   "source": [
    "cocoex.known_suite_names.append(\"bbob-constrained\")\n",
    "cocoexcons.known_suite_names.append(\"bbob-constrained\")"
   ]
  },
  {
   "cell_type": "code",
   "execution_count": 40,
   "metadata": {},
   "outputs": [],
   "source": [
    "#suite = cocoex.Suite(\"bbob-constrained\", \"\", \"dimensions:2,3,5 instance_indices:1\")\n",
    "suite = cocoexcons.Suite(\"bbob-constrained\", \"\", \"dimensions:2,3,5 instance_indices:1\")\n",
    "suite_true = cocoex.Suite(\"bbob-constrained\", \"\", \"dimensions:2,3,5 instance_indices:1\")"
   ]
  },
  {
   "cell_type": "code",
   "execution_count": 42,
   "metadata": {},
   "outputs": [
    {
     "name": "stdout",
     "output_type": "stream",
     "text": [
      "bbob-constrained_f02_i01_d02: a 2-dimensional single-objective problem with 3 constraints (problem 15 of suite \"b'bbob-constrained'\" with name \"bbob-constrained_f002_i01_d02__bbob-constrained_f02_i01_d02\")\n"
     ]
    }
   ],
   "source": [
    "problem = suite.next_problem()\n",
    "print(problem)"
   ]
  },
  {
   "cell_type": "code",
   "execution_count": 36,
   "metadata": {},
   "outputs": [
    {
     "data": {
      "text/plain": [
       "array([-1.05352753e+05, -2.38101022e+04, -1.33724424e+09])"
      ]
     },
     "execution_count": 36,
     "metadata": {},
     "output_type": "execute_result"
    }
   ],
   "source": [
    "problem.constraint(problem.initial_solution)"
   ]
  },
  {
   "cell_type": "code",
   "execution_count": 44,
   "metadata": {},
   "outputs": [
    {
     "name": "stdout",
     "output_type": "stream",
     "text": [
      "bbob-constrained_f02_i01_d02: a 2-dimensional single-objective problem with 3 constraints (problem 15 of suite \"b'bbob-constrained'\" with name \"bbob-constrained_f002_i01_d02__bbob-constrained_f02_i01_d02\")\n"
     ]
    }
   ],
   "source": [
    "problem_true = suite_true.next_problem()\n",
    "print(problem_true)"
   ]
  },
  {
   "cell_type": "code",
   "execution_count": 45,
   "metadata": {},
   "outputs": [
    {
     "data": {
      "text/plain": [
       "array([-1.05352753e+05, -1.85609863e+04, -1.33710361e+10])"
      ]
     },
     "execution_count": 45,
     "metadata": {},
     "output_type": "execute_result"
    }
   ],
   "source": [
    "problem_true.constraint(problem.initial_solution)"
   ]
  },
  {
   "cell_type": "code",
   "execution_count": 14,
   "metadata": {},
   "outputs": [
    {
     "data": {
      "text/plain": [
       "[-105352.75290616427]"
      ]
     },
     "execution_count": 14,
     "metadata": {},
     "output_type": "execute_result"
    }
   ],
   "source": [
    "cons = lambda x: [problem.constraint(x)[0]]\n",
    "cons(problem.initial_solution)"
   ]
  },
  {
   "cell_type": "markdown",
   "metadata": {},
   "source": [
    "# Optimize with AL-CMA-ES\n",
    "\n",
    "Observations:\n",
    "- It looks like AL-CMA-ES fails with bbob-constrained_f02_i01_d02\n",
    "\n",
    "\n",
    "> termination on tolfun=1e-11 (Tue Mar 30 11:00:33 2021)   \n",
    "> final/bestever f-value = -2.051697e+02 -3.724878e+03   \n",
    "> incumbent solution: [0.20994942204755762, 1.749706536023543]   \n",
    "> std deviation: [6.440723208130416e-08, 8.407068706938153e-08]   \n",
    "> `>>> problem.constraint(es.mean)`   \n",
    "> array([ 6.12202712e-07,  5.50827651e+03, -1.33705184e+09])\n"
   ]
  },
  {
   "cell_type": "code",
   "execution_count": 31,
   "metadata": {},
   "outputs": [
    {
     "name": "stdout",
     "output_type": "stream",
     "text": [
      "(3_w,6)-aCMA-ES (mu_w=2.0,w_1=63%) in dimension 2 (seed=196192, Tue Mar 30 11:00:32 2021)\n",
      "Iterat #Fevals   function value  axis ratio  sigma  min&max std  t[m:s]\n",
      "    1      6 -1.163138649051540e+02 1.4e+00 1.32e+00  1e+00  2e+00 0:00.0\n",
      "    2     12 2.817745294484139e+06 1.9e+00 1.73e+00  2e+00  3e+00 0:00.1\n",
      "    3     18 2.528748733507459e+06 1.6e+00 2.05e+00  2e+00  3e+00 0:00.1\n",
      "  100    600 -2.051696671261400e+02 7.5e+02 1.15e-03  2e-05  3e-05 0:00.4\n",
      "  139    834 -2.051696671297151e+02 9.8e+03 1.98e-05  6e-08  8e-08 0:00.6\n",
      "termination on tolfun=1e-11 (Tue Mar 30 11:00:33 2021)\n",
      "final/bestever f-value = -2.051697e+02 -3.724878e+03\n",
      "incumbent solution: [0.20994942204755762, 1.749706536023543]\n",
      "std deviation: [6.440723208130416e-08, 8.407068706938153e-08]\n"
     ]
    }
   ],
   "source": [
    "res, es = cma.fmin_con(problem, [10]*problem.dimension, 1, g=cons, al_params={\"k1\":100, \"chi_domega\":2})"
   ]
  },
  {
   "cell_type": "code",
   "execution_count": 32,
   "metadata": {},
   "outputs": [
    {
     "data": {
      "text/plain": [
       "array([ 6.12202712e-07,  5.50827651e+03, -1.33705184e+09])"
      ]
     },
     "execution_count": 32,
     "metadata": {},
     "output_type": "execute_result"
    }
   ],
   "source": [
    "problem.constraint(es.mean)"
   ]
  },
  {
   "cell_type": "code",
   "execution_count": 24,
   "metadata": {},
   "outputs": [
    {
     "data": {
      "text/plain": [
       "array([1.2072, 0.448 ])"
      ]
     },
     "execution_count": 24,
     "metadata": {},
     "output_type": "execute_result"
    }
   ],
   "source": [
    "problem._best_parameter('print')\n",
    "_xopt = np.loadtxt('._bbob_problem_best_parameter.txt')\n",
    "_xopt"
   ]
  },
  {
   "cell_type": "code",
   "execution_count": 25,
   "metadata": {},
   "outputs": [
    {
     "data": {
      "text/plain": [
       "array([ 0.00000000e+00,  0.00000000e+00, -1.33708799e+09])"
      ]
     },
     "execution_count": 25,
     "metadata": {},
     "output_type": "execute_result"
    }
   ],
   "source": [
    "problem.constraint(_xopt)"
   ]
  },
  {
   "cell_type": "code",
   "execution_count": 19,
   "metadata": {},
   "outputs": [
    {
     "data": {
      "text/plain": [
       "-202.48071808"
      ]
     },
     "execution_count": 19,
     "metadata": {},
     "output_type": "execute_result"
    }
   ],
   "source": [
    "problem(_xopt)"
   ]
  },
  {
   "cell_type": "code",
   "execution_count": 26,
   "metadata": {},
   "outputs": [
    {
     "data": {
      "text/plain": [
       "-205.16966713049578"
      ]
     },
     "execution_count": 26,
     "metadata": {},
     "output_type": "execute_result"
    }
   ],
   "source": [
    "problem(es.mean)"
   ]
  },
  {
   "cell_type": "code",
   "execution_count": null,
   "metadata": {},
   "outputs": [],
   "source": []
  }
 ],
 "metadata": {
  "kernelspec": {
   "display_name": "sci386",
   "language": "python",
   "name": "sci386"
  },
  "language_info": {
   "codemirror_mode": {
    "name": "ipython",
    "version": 3
   },
   "file_extension": ".py",
   "mimetype": "text/x-python",
   "name": "python",
   "nbconvert_exporter": "python",
   "pygments_lexer": "ipython3",
   "version": "3.8.6"
  }
 },
 "nbformat": 4,
 "nbformat_minor": 4
}
