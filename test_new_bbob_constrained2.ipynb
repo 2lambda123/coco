{
 "cells": [
  {
   "cell_type": "code",
   "execution_count": 1,
   "metadata": {},
   "outputs": [],
   "source": [
    "from collections import Counter\n",
    "import cocoex\n",
    "import numpy as np\n",
    "import cma"
   ]
  },
  {
   "cell_type": "code",
   "execution_count": 2,
   "metadata": {},
   "outputs": [],
   "source": [
    "cocoex.known_suite_names.append(\"bbob-constrained\")\n",
    "cocoex.known_suite_names.append(\"bbob-constrained-active-only\")"
   ]
  },
  {
   "cell_type": "code",
   "execution_count": 3,
   "metadata": {},
   "outputs": [],
   "source": [
    "s = cocoex.Suite('bbob-constrained-active-only', '', '')"
   ]
  },
  {
   "cell_type": "code",
   "execution_count": 4,
   "metadata": {},
   "outputs": [],
   "source": [
    "# suite = cocoex.Suite(\"bbob-constrained\", \"\", \"dimensions:2,3,5 instance_indices:1\")\n",
    "suite = cocoex.Suite(\"bbob-constrained\", \"\", \"\")\n",
    "# suite_true = cocoex.Suite(\"bbob-constrained\", \"\", \"dimensions:2,3,5 instance_indices:1\")"
   ]
  },
  {
   "cell_type": "code",
   "execution_count": 5,
   "metadata": {},
   "outputs": [
    {
     "name": "stdout",
     "output_type": "stream",
     "text": [
      "bbob-constrained_f001_i02_d02: a 2-dimensional single-objective problem with 1 constraint (problem 1 of suite \"b'bbob-constrained'\" with name \"bbob-constrained suite problem f1 instance 2 in 2D\")\n"
     ]
    }
   ],
   "source": [
    "problem = suite[1]\n",
    "print(problem)"
   ]
  },
  {
   "cell_type": "code",
   "execution_count": 6,
   "metadata": {},
   "outputs": [
    {
     "data": {
      "text/plain": [
       "array([-671.43930546])"
      ]
     },
     "execution_count": 6,
     "metadata": {},
     "output_type": "execute_result"
    }
   ],
   "source": [
    "problem.constraint(problem.initial_solution)"
   ]
  },
  {
   "cell_type": "code",
   "execution_count": 7,
   "metadata": {},
   "outputs": [],
   "source": [
    "c_valsao = [problem.number_of_constraints for problem in s]\n",
    "c_vals = [problem.number_of_constraints for problem in suite]"
   ]
  },
  {
   "cell_type": "code",
   "execution_count": 8,
   "metadata": {},
   "outputs": [
    {
     "data": {
      "text/plain": [
       "Counter({1: 720,\n",
       "         3: 720,\n",
       "         9: 720,\n",
       "         10: 240,\n",
       "         12: 240,\n",
       "         18: 120,\n",
       "         13: 120,\n",
       "         22: 120,\n",
       "         16: 240,\n",
       "         31: 120,\n",
       "         24: 240,\n",
       "         54: 120,\n",
       "         39: 240,\n",
       "         99: 120,\n",
       "         69: 120,\n",
       "         189: 120})"
      ]
     },
     "execution_count": 8,
     "metadata": {},
     "output_type": "execute_result"
    }
   ],
   "source": [
    "Counter(c_vals)"
   ]
  },
  {
   "cell_type": "code",
   "execution_count": 9,
   "metadata": {},
   "outputs": [],
   "source": [
    "assert [Counter(c_valsao), Counter(c_vals)] == [Counter(\n",
    "        {1: 720,\n",
    "         2: 720,\n",
    "         6: 720,\n",
    "         7: 240,\n",
    "         8: 240,\n",
    "         12: 120,\n",
    "         9: 120,\n",
    "         15: 120,\n",
    "         11: 240,\n",
    "         21: 120,\n",
    "         16: 240,\n",
    "         36: 120,\n",
    "         26: 240,\n",
    "         66: 120,\n",
    "         46: 120,\n",
    "         126: 120}), Counter({\n",
    "         1: 720,\n",
    "         3: 720,\n",
    "         9: 720,\n",
    "         10: 240,\n",
    "         12: 240,\n",
    "         18: 120,\n",
    "         13: 120,\n",
    "         22: 120,\n",
    "         16: 240,\n",
    "         31: 120,\n",
    "         24: 240,\n",
    "         54: 120,\n",
    "         39: 240,\n",
    "         99: 120,\n",
    "         69: 120,\n",
    "         189: 120})]"
   ]
  },
  {
   "cell_type": "code",
   "execution_count": 10,
   "metadata": {},
   "outputs": [
    {
     "data": {
      "text/plain": [
       "('bbob-constrained suite problem f2 instance 8 in 2D',\n",
       " 'bbob-constrained_f002_i08_d02',\n",
       " 'bbob-constrained-active-only suite problem f2 instance 8 in 2D',\n",
       " 'bbob-constrained-active-only_f002_i08_d02')"
      ]
     },
     "execution_count": 10,
     "metadata": {},
     "output_type": "execute_result"
    }
   ],
   "source": [
    "p = suite[22]\n",
    "p2 = s[22]\n",
    "p.name, p.id, p2.name, p2.id"
   ]
  },
  {
   "cell_type": "code",
   "execution_count": 11,
   "metadata": {},
   "outputs": [
    {
     "data": {
      "text/plain": [
       "('BBOB suite problem f1 instance 2 in 2D', 'bbob_f001_i02_d02')"
      ]
     },
     "execution_count": 11,
     "metadata": {},
     "output_type": "execute_result"
    }
   ],
   "source": [
    "bbob = cocoex.Suite('bbob', '', '')\n",
    "p = bbob[1]\n",
    "p.name, p.id\n",
    "#print(p)"
   ]
  },
  {
   "cell_type": "code",
   "execution_count": 12,
   "metadata": {},
   "outputs": [
    {
     "name": "stdout",
     "output_type": "stream",
     "text": [
      "using file data/regression_test_2data_for_suite_bbob-constrained.py with 8640 test cases done in 5.3s\n"
     ]
    }
   ],
   "source": [
    "%run code-experiments/test/regression-test/test_constrained_suite.py"
   ]
  },
  {
   "cell_type": "code",
   "execution_count": 13,
   "metadata": {},
   "outputs": [
    {
     "data": {
      "text/plain": [
       "[-671.4393054590993]"
      ]
     },
     "execution_count": 13,
     "metadata": {},
     "output_type": "execute_result"
    }
   ],
   "source": [
    "cons = lambda x: [problem.constraint(x)[0]]\n",
    "cons(problem.initial_solution)"
   ]
  },
  {
   "cell_type": "markdown",
   "metadata": {},
   "source": [
    "# Optimize with AL-CMA-ES\n",
    "\n",
    "Observations:\n",
    "- It looks like AL-CMA-ES fails with bbob-constrained_f02_i01_d02\n",
    "\n",
    "\n",
    "> termination on tolfun=1e-11 (Tue Mar 30 11:00:33 2021)   \n",
    "> final/bestever f-value = -2.051697e+02 -3.724878e+03   \n",
    "> incumbent solution: [0.20994942204755762, 1.749706536023543]   \n",
    "> std deviation: [6.440723208130416e-08, 8.407068706938153e-08]   \n",
    "> `>>> problem.constraint(es.mean)`   \n",
    "> array([ 6.12202712e-07,  5.50827651e+03, -1.33705184e+09])\n"
   ]
  },
  {
   "cell_type": "code",
   "execution_count": 14,
   "metadata": {},
   "outputs": [],
   "source": [
    "#res, es = cma.fmin_con(problem, [10]*problem.dimension, 1, g=cons, al_params={\"k1\":100, \"chi_domega\":2})"
   ]
  },
  {
   "cell_type": "code",
   "execution_count": 15,
   "metadata": {},
   "outputs": [],
   "source": [
    "#problem.constraint(es.mean)"
   ]
  },
  {
   "cell_type": "code",
   "execution_count": 16,
   "metadata": {},
   "outputs": [],
   "source": [
    "#problem._best_parameter('print')\n",
    "#_xopt = np.loadtxt('._bbob_problem_best_parameter.txt')\n",
    "#_xopt"
   ]
  },
  {
   "cell_type": "code",
   "execution_count": 17,
   "metadata": {},
   "outputs": [],
   "source": [
    "#problem.constraint(_xopt)"
   ]
  },
  {
   "cell_type": "code",
   "execution_count": 18,
   "metadata": {},
   "outputs": [],
   "source": [
    "#problem(_xopt)"
   ]
  },
  {
   "cell_type": "code",
   "execution_count": 19,
   "metadata": {},
   "outputs": [],
   "source": [
    "#problem(es.mean)"
   ]
  },
  {
   "cell_type": "code",
   "execution_count": null,
   "metadata": {},
   "outputs": [],
   "source": []
  }
 ],
 "metadata": {
  "kernelspec": {
   "display_name": "Python 3",
   "language": "python",
   "name": "python3"
  },
  "language_info": {
   "codemirror_mode": {
    "name": "ipython",
    "version": 3
   },
   "file_extension": ".py",
   "mimetype": "text/x-python",
   "name": "python",
   "nbconvert_exporter": "python",
   "pygments_lexer": "ipython3",
   "version": "3.7.6"
  }
 },
 "nbformat": 4,
 "nbformat_minor": 4
}
